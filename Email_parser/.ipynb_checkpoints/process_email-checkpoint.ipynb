{
 "cells": [
  {
   "cell_type": "code",
   "execution_count": 1,
   "id": "9b86ac1c",
   "metadata": {},
   "outputs": [],
   "source": [
    "import pandas as pd\n",
    "\n",
    "df = pd.read_csv('emails.csv')\n",
    "# process the data here"
   ]
  },
  {
   "cell_type": "code",
   "execution_count": 2,
   "id": "513db54b",
   "metadata": {},
   "outputs": [
    {
     "data": {
      "text/html": [
       "<div>\n",
       "<style scoped>\n",
       "    .dataframe tbody tr th:only-of-type {\n",
       "        vertical-align: middle;\n",
       "    }\n",
       "\n",
       "    .dataframe tbody tr th {\n",
       "        vertical-align: top;\n",
       "    }\n",
       "\n",
       "    .dataframe thead th {\n",
       "        text-align: right;\n",
       "    }\n",
       "</style>\n",
       "<table border=\"1\" class=\"dataframe\">\n",
       "  <thead>\n",
       "    <tr style=\"text-align: right;\">\n",
       "      <th></th>\n",
       "      <th>mila mila &lt;mila0mila2023@gmail.com&gt;</th>\n",
       "      <th>Unnamed: 1</th>\n",
       "      <th>heyyy</th>\n",
       "    </tr>\n",
       "  </thead>\n",
       "  <tbody>\n",
       "    <tr>\n",
       "      <th>0</th>\n",
       "      <td>mila mila &lt;mila0mila2023@gmail.com&gt;</td>\n",
       "      <td>Urgennntt!!!!!</td>\n",
       "      <td>compte bancaire</td>\n",
       "    </tr>\n",
       "    <tr>\n",
       "      <th>1</th>\n",
       "      <td>mila mila &lt;mila0mila2023@gmail.com&gt;</td>\n",
       "      <td>OPEN IT !!</td>\n",
       "      <td>&lt;a href=\"https://www.section.io/engineering-ed...</td>\n",
       "    </tr>\n",
       "  </tbody>\n",
       "</table>\n",
       "</div>"
      ],
      "text/plain": [
       "   mila mila <mila0mila2023@gmail.com>      Unnamed: 1  \\\n",
       "0  mila mila <mila0mila2023@gmail.com>  Urgennntt!!!!!   \n",
       "1  mila mila <mila0mila2023@gmail.com>      OPEN IT !!   \n",
       "\n",
       "                                               heyyy  \n",
       "0                                    compte bancaire  \n",
       "1  <a href=\"https://www.section.io/engineering-ed...  "
      ]
     },
     "execution_count": 2,
     "metadata": {},
     "output_type": "execute_result"
    }
   ],
   "source": [
    "df"
   ]
  },
  {
   "cell_type": "code",
   "execution_count": null,
   "id": "6a7dc36c",
   "metadata": {},
   "outputs": [],
   "source": []
  }
 ],
 "metadata": {
  "kernelspec": {
   "display_name": "Python 3 (ipykernel)",
   "language": "python",
   "name": "python3"
  },
  "language_info": {
   "codemirror_mode": {
    "name": "ipython",
    "version": 3
   },
   "file_extension": ".py",
   "mimetype": "text/x-python",
   "name": "python",
   "nbconvert_exporter": "python",
   "pygments_lexer": "ipython3",
   "version": "3.9.15"
  }
 },
 "nbformat": 4,
 "nbformat_minor": 5
}
